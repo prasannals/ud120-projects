{
 "cells": [
  {
   "cell_type": "code",
   "execution_count": 29,
   "metadata": {
    "collapsed": true
   },
   "outputs": [],
   "source": [
    "import pickle\n",
    "import pandas as pd\n",
    "import numpy as np"
   ]
  },
  {
   "cell_type": "code",
   "execution_count": 2,
   "metadata": {
    "collapsed": true
   },
   "outputs": [],
   "source": [
    "enron_data = pickle.load(open(\"../final_project/final_project_dataset.pkl\", \"r\"))"
   ]
  },
  {
   "cell_type": "code",
   "execution_count": 3,
   "metadata": {
    "collapsed": false
   },
   "outputs": [
    {
     "name": "stdout",
     "output_type": "stream",
     "text": [
      "<type 'dict'>\n"
     ]
    }
   ],
   "source": [
    "print type(enron_data)"
   ]
  },
  {
   "cell_type": "code",
   "execution_count": 4,
   "metadata": {
    "collapsed": true
   },
   "outputs": [],
   "source": [
    "df = pd.DataFrame(enron_data).transpose()"
   ]
  },
  {
   "cell_type": "code",
   "execution_count": 5,
   "metadata": {
    "collapsed": false
   },
   "outputs": [
    {
     "name": "stdout",
     "output_type": "stream",
     "text": [
      "                      bonus deferral_payments deferred_income director_fees  \\\n",
      "ALLEN PHILLIP K     4175000           2869717        -3081055           NaN   \n",
      "BADUM JAMES P           NaN            178980             NaN           NaN   \n",
      "BANNANTINE JAMES M      NaN               NaN           -5104           NaN   \n",
      "BAXTER JOHN C       1200000           1295738        -1386055           NaN   \n",
      "BAY FRANKLIN R       400000            260455         -201641           NaN   \n",
      "\n",
      "                                 email_address exercised_stock_options  \\\n",
      "ALLEN PHILLIP K        phillip.allen@enron.com                 1729541   \n",
      "BADUM JAMES P                              NaN                  257817   \n",
      "BANNANTINE JAMES M  james.bannantine@enron.com                 4046157   \n",
      "BAXTER JOHN C                              NaN                 6680544   \n",
      "BAY FRANKLIN R             frank.bay@enron.com                     NaN   \n",
      "\n",
      "                   expenses from_messages from_poi_to_this_person  \\\n",
      "ALLEN PHILLIP K       13868          2195                      47   \n",
      "BADUM JAMES P          3486           NaN                     NaN   \n",
      "BANNANTINE JAMES M    56301            29                      39   \n",
      "BAXTER JOHN C         11200           NaN                     NaN   \n",
      "BAY FRANKLIN R       129142           NaN                     NaN   \n",
      "\n",
      "                   from_this_person_to_poi        ...         \\\n",
      "ALLEN PHILLIP K                         65        ...          \n",
      "BADUM JAMES P                          NaN        ...          \n",
      "BANNANTINE JAMES M                       0        ...          \n",
      "BAXTER JOHN C                          NaN        ...          \n",
      "BAY FRANKLIN R                         NaN        ...          \n",
      "\n",
      "                   long_term_incentive    other    poi restricted_stock  \\\n",
      "ALLEN PHILLIP K                 304805      152  False           126027   \n",
      "BADUM JAMES P                      NaN      NaN  False              NaN   \n",
      "BANNANTINE JAMES M                 NaN   864523  False          1757552   \n",
      "BAXTER JOHN C                  1586055  2660303  False          3942714   \n",
      "BAY FRANKLIN R                     NaN       69  False           145796   \n",
      "\n",
      "                   restricted_stock_deferred  salary shared_receipt_with_poi  \\\n",
      "ALLEN PHILLIP K                      -126027  201955                    1407   \n",
      "BADUM JAMES P                            NaN     NaN                     NaN   \n",
      "BANNANTINE JAMES M                   -560222     477                     465   \n",
      "BAXTER JOHN C                            NaN  267102                     NaN   \n",
      "BAY FRANKLIN R                        -82782  239671                     NaN   \n",
      "\n",
      "                   to_messages total_payments total_stock_value  \n",
      "ALLEN PHILLIP K           2902        4484442           1729541  \n",
      "BADUM JAMES P              NaN         182466            257817  \n",
      "BANNANTINE JAMES M         566         916197           5243487  \n",
      "BAXTER JOHN C              NaN        5634343          10623258  \n",
      "BAY FRANKLIN R             NaN         827696             63014  \n",
      "\n",
      "[5 rows x 21 columns]\n"
     ]
    }
   ],
   "source": [
    "print df.head()"
   ]
  },
  {
   "cell_type": "code",
   "execution_count": 6,
   "metadata": {
    "collapsed": false
   },
   "outputs": [
    {
     "name": "stdout",
     "output_type": "stream",
     "text": [
      "(146, 21)\n"
     ]
    }
   ],
   "source": [
    "print df.shape"
   ]
  },
  {
   "cell_type": "code",
   "execution_count": 7,
   "metadata": {
    "collapsed": false
   },
   "outputs": [
    {
     "name": "stdout",
     "output_type": "stream",
     "text": [
      "18\n"
     ]
    }
   ],
   "source": [
    "print (df['poi'] == True).sum()"
   ]
  },
  {
   "cell_type": "code",
   "execution_count": 8,
   "metadata": {
    "collapsed": false
   },
   "outputs": [
    {
     "name": "stdout",
     "output_type": "stream",
     "text": [
      "bonus                                             NaN\n",
      "deferral_payments                              564348\n",
      "deferred_income                                   NaN\n",
      "director_fees                                     NaN\n",
      "email_address                james.prentice@enron.com\n",
      "exercised_stock_options                        886231\n",
      "expenses                                          NaN\n",
      "from_messages                                     NaN\n",
      "from_poi_to_this_person                           NaN\n",
      "from_this_person_to_poi                           NaN\n",
      "loan_advances                                     NaN\n",
      "long_term_incentive                               NaN\n",
      "other                                             NaN\n",
      "poi                                             False\n",
      "restricted_stock                               208809\n",
      "restricted_stock_deferred                         NaN\n",
      "salary                                            NaN\n",
      "shared_receipt_with_poi                           NaN\n",
      "to_messages                                       NaN\n",
      "total_payments                                 564348\n",
      "total_stock_value                             1095040\n",
      "Name: PRENTICE JAMES, dtype: object\n"
     ]
    }
   ],
   "source": [
    "print df.loc['PRENTICE JAMES'] "
   ]
  },
  {
   "cell_type": "code",
   "execution_count": 9,
   "metadata": {
    "collapsed": false
   },
   "outputs": [
    {
     "name": "stdout",
     "output_type": "stream",
     "text": [
      "bonus                                      1200000\n",
      "deferral_payments                            27610\n",
      "deferred_income                            -144062\n",
      "director_fees                                  NaN\n",
      "email_address                wes.colwell@enron.com\n",
      "exercised_stock_options                        NaN\n",
      "expenses                                     16514\n",
      "from_messages                                   40\n",
      "from_poi_to_this_person                        240\n",
      "from_this_person_to_poi                         11\n",
      "loan_advances                                  NaN\n",
      "long_term_incentive                            NaN\n",
      "other                                       101740\n",
      "poi                                           True\n",
      "restricted_stock                            698242\n",
      "restricted_stock_deferred                      NaN\n",
      "salary                                      288542\n",
      "shared_receipt_with_poi                       1132\n",
      "to_messages                                   1758\n",
      "total_payments                             1490344\n",
      "total_stock_value                           698242\n",
      "Name: COLWELL WESLEY, dtype: object\n"
     ]
    }
   ],
   "source": [
    "print df.loc['COLWELL WESLEY']"
   ]
  },
  {
   "cell_type": "code",
   "execution_count": 10,
   "metadata": {
    "collapsed": false
   },
   "outputs": [
    {
     "name": "stdout",
     "output_type": "stream",
     "text": [
      "bonus                                        5600000\n",
      "deferral_payments                                NaN\n",
      "deferred_income                                  NaN\n",
      "director_fees                                    NaN\n",
      "email_address                jeff.skilling@enron.com\n",
      "exercised_stock_options                     19250000\n",
      "expenses                                       29336\n",
      "from_messages                                    108\n",
      "from_poi_to_this_person                           88\n",
      "from_this_person_to_poi                           30\n",
      "loan_advances                                    NaN\n",
      "long_term_incentive                          1920000\n",
      "other                                          22122\n",
      "poi                                             True\n",
      "restricted_stock                             6843672\n",
      "restricted_stock_deferred                        NaN\n",
      "salary                                       1111258\n",
      "shared_receipt_with_poi                         2042\n",
      "to_messages                                     3627\n",
      "total_payments                               8682716\n",
      "total_stock_value                           26093672\n",
      "Name: SKILLING JEFFREY K, dtype: object\n"
     ]
    }
   ],
   "source": [
    "print df.loc['SKILLING JEFFREY K']"
   ]
  },
  {
   "cell_type": "code",
   "execution_count": 11,
   "metadata": {
    "collapsed": false
   },
   "outputs": [
    {
     "name": "stdout",
     "output_type": "stream",
     "text": [
      "bonus                                      7000000\n",
      "deferral_payments                           202911\n",
      "deferred_income                            -300000\n",
      "director_fees                                  NaN\n",
      "email_address                kenneth.lay@enron.com\n",
      "exercised_stock_options                   34348384\n",
      "expenses                                     99832\n",
      "from_messages                                   36\n",
      "from_poi_to_this_person                        123\n",
      "from_this_person_to_poi                         16\n",
      "loan_advances                             81525000\n",
      "long_term_incentive                        3600000\n",
      "other                                     10359729\n",
      "poi                                           True\n",
      "restricted_stock                          14761694\n",
      "restricted_stock_deferred                      NaN\n",
      "salary                                     1072321\n",
      "shared_receipt_with_poi                       2411\n",
      "to_messages                                   4273\n",
      "total_payments                           103559793\n",
      "total_stock_value                         49110078\n",
      "Name: LAY KENNETH L, dtype: object\n"
     ]
    }
   ],
   "source": [
    "print df.loc['LAY KENNETH L']"
   ]
  },
  {
   "cell_type": "code",
   "execution_count": 12,
   "metadata": {
    "collapsed": false
   },
   "outputs": [
    {
     "name": "stdout",
     "output_type": "stream",
     "text": [
      "bonus                                        1300000\n",
      "deferral_payments                                NaN\n",
      "deferred_income                             -1386055\n",
      "director_fees                                    NaN\n",
      "email_address                andrew.fastow@enron.com\n",
      "exercised_stock_options                          NaN\n",
      "expenses                                       55921\n",
      "from_messages                                    NaN\n",
      "from_poi_to_this_person                          NaN\n",
      "from_this_person_to_poi                          NaN\n",
      "loan_advances                                    NaN\n",
      "long_term_incentive                          1736055\n",
      "other                                         277464\n",
      "poi                                             True\n",
      "restricted_stock                             1794412\n",
      "restricted_stock_deferred                        NaN\n",
      "salary                                        440698\n",
      "shared_receipt_with_poi                          NaN\n",
      "to_messages                                      NaN\n",
      "total_payments                               2424083\n",
      "total_stock_value                            1794412\n",
      "Name: FASTOW ANDREW S, dtype: object\n"
     ]
    }
   ],
   "source": [
    "print df.loc['FASTOW ANDREW S']"
   ]
  },
  {
   "cell_type": "code",
   "execution_count": 13,
   "metadata": {
    "collapsed": false
   },
   "outputs": [
    {
     "name": "stdout",
     "output_type": "stream",
     "text": [
      "Index([u'bonus', u'deferral_payments', u'deferred_income', u'director_fees',\n",
      "       u'email_address', u'exercised_stock_options', u'expenses',\n",
      "       u'from_messages', u'from_poi_to_this_person',\n",
      "       u'from_this_person_to_poi', u'loan_advances', u'long_term_incentive',\n",
      "       u'other', u'poi', u'restricted_stock', u'restricted_stock_deferred',\n",
      "       u'salary', u'shared_receipt_with_poi', u'to_messages',\n",
      "       u'total_payments', u'total_stock_value'],\n",
      "      dtype='object')\n"
     ]
    }
   ],
   "source": [
    "print df.columns"
   ]
  },
  {
   "cell_type": "code",
   "execution_count": 22,
   "metadata": {
    "collapsed": false
   },
   "outputs": [
    {
     "name": "stdout",
     "output_type": "stream",
     "text": [
      "146\n",
      "ALLEN PHILLIP K                    201955\n",
      "BADUM JAMES P                         NaN\n",
      "BANNANTINE JAMES M                    477\n",
      "BAXTER JOHN C                      267102\n",
      "BAY FRANKLIN R                     239671\n",
      "BAZELIDES PHILIP J                  80818\n",
      "BECK SALLY W                       231330\n",
      "BELDEN TIMOTHY N                   213999\n",
      "BELFER ROBERT                         NaN\n",
      "BERBERIAN DAVID                    216582\n",
      "BERGSIEKER RICHARD P               187922\n",
      "BHATNAGAR SANJAY                      NaN\n",
      "BIBI PHILIPPE A                    213625\n",
      "BLACHMAN JEREMY M                  248546\n",
      "BLAKE JR. NORMAN P                    NaN\n",
      "BOWEN JR RAYMOND M                 278601\n",
      "BROWN MICHAEL                         NaN\n",
      "BUCHANAN HAROLD G                  248017\n",
      "BUTTS ROBERT H                     261516\n",
      "BUY RICHARD B                      330546\n",
      "CALGER CHRISTOPHER F               240189\n",
      "CARTER REBECCA C                   261809\n",
      "CAUSEY RICHARD A                   415189\n",
      "CHAN RONNIE                           NaN\n",
      "CHRISTODOULOU DIOMEDES                NaN\n",
      "CLINE KENNETH W                       NaN\n",
      "COLWELL WESLEY                     288542\n",
      "CORDES WILLIAM R                      NaN\n",
      "COX DAVID                          314288\n",
      "CUMBERLAND MICHAEL S               184899\n",
      "                                   ...   \n",
      "SHANKMAN JEFFREY A                 304110\n",
      "SHAPIRO RICHARD S                  269076\n",
      "SHARP VICTORIA T                   248146\n",
      "SHELBY REX                         211844\n",
      "SHERRICK JEFFREY B                    NaN\n",
      "SHERRIFF JOHN R                    428780\n",
      "SKILLING JEFFREY K                1111258\n",
      "STABLER FRANK                      239502\n",
      "SULLIVAN-SHAKLOVITZ COLLEEN        162779\n",
      "SUNDE MARTIN                       257486\n",
      "TAYLOR MITCHELL S                  265214\n",
      "THE TRAVEL AGENCY IN THE PARK         NaN\n",
      "THORN TERENCE H                    222093\n",
      "TILNEY ELIZABETH A                 247338\n",
      "TOTAL                            26704229\n",
      "UMANOFF ADAM S                     288589\n",
      "URQUHART JOHN A                       NaN\n",
      "WAKEHAM JOHN                          NaN\n",
      "WALLS JR ROBERT H                  357091\n",
      "WALTERS GARETH W                      NaN\n",
      "WASAFF GEORGE                      259996\n",
      "WESTFAHL RICHARD K                  63744\n",
      "WHALEY DAVID A                        NaN\n",
      "WHALLEY LAWRENCE G                 510364\n",
      "WHITE JR THOMAS E                  317543\n",
      "WINOKUR JR. HERBERT S                 NaN\n",
      "WODRASKA JOHN                         NaN\n",
      "WROBEL BRUCE                          NaN\n",
      "YEAGER F SCOTT                     158403\n",
      "YEAP SOON                             NaN\n",
      "Name: salary, dtype: object\n"
     ]
    }
   ],
   "source": [
    "# number of people having quantified salaries\n",
    "\n",
    "print df['salary'].shape[0] \n",
    "print df['salary']"
   ]
  },
  {
   "cell_type": "code",
   "execution_count": 18,
   "metadata": {
    "collapsed": true
   },
   "outputs": [],
   "source": [
    "sd = pd.Series()"
   ]
  },
  {
   "cell_type": "code",
   "execution_count": 30,
   "metadata": {
    "collapsed": false
   },
   "outputs": [
    {
     "name": "stdout",
     "output_type": "stream",
     "text": [
      "<type 'str'>\n",
      "<type 'float'>\n"
     ]
    }
   ],
   "source": [
    "#print pd.notnull(df['salary'])\n",
    "print type(df['salary'][1])\n",
    "print type(np.NaN)"
   ]
  },
  {
   "cell_type": "code",
   "execution_count": 34,
   "metadata": {
    "collapsed": false
   },
   "outputs": [
    {
     "data": {
      "text/plain": [
       "95"
      ]
     },
     "execution_count": 34,
     "metadata": {},
     "output_type": "execute_result"
    }
   ],
   "source": [
    "df['salary'].apply(lambda val : True if val != 'NaN' else False).sum()\n",
    "\n",
    "#number of people who have valid salaries"
   ]
  },
  {
   "cell_type": "code",
   "execution_count": 36,
   "metadata": {
    "collapsed": false
   },
   "outputs": [
    {
     "data": {
      "text/plain": [
       "111"
      ]
     },
     "execution_count": 36,
     "metadata": {},
     "output_type": "execute_result"
    }
   ],
   "source": [
    "df['email_address'].apply(lambda val : True if val != 'NaN' else False).sum()\n",
    "\n",
    "#number of people who have valid email addresses"
   ]
  },
  {
   "cell_type": "code",
   "execution_count": 39,
   "metadata": {
    "collapsed": false
   },
   "outputs": [
    {
     "data": {
      "text/plain": [
       "0.14383561643835616"
      ]
     },
     "execution_count": 39,
     "metadata": {},
     "output_type": "execute_result"
    }
   ],
   "source": [
    "df['total_payments'].apply(lambda val : True if val == 'NaN' else False).sum() / float(df.shape[0])\n",
    "\n",
    "#percentage of people having NaN for total payment"
   ]
  },
  {
   "cell_type": "code",
   "execution_count": 40,
   "metadata": {
    "collapsed": true
   },
   "outputs": [],
   "source": [
    "poi_df = df[df['poi'] == True ]"
   ]
  },
  {
   "cell_type": "code",
   "execution_count": 44,
   "metadata": {
    "collapsed": false
   },
   "outputs": [
    {
     "data": {
      "text/plain": [
       "0.0"
      ]
     },
     "execution_count": 44,
     "metadata": {},
     "output_type": "execute_result"
    }
   ],
   "source": [
    "poi_df['total_payments'].apply(lambda val : True if val == 'NaN' else False).sum() / float(poi_df.shape[0])"
   ]
  },
  {
   "cell_type": "code",
   "execution_count": 46,
   "metadata": {
    "collapsed": false
   },
   "outputs": [
    {
     "data": {
      "text/plain": [
       "146"
      ]
     },
     "execution_count": 46,
     "metadata": {},
     "output_type": "execute_result"
    }
   ],
   "source": [
    "df.shape[0]"
   ]
  },
  {
   "cell_type": "code",
   "execution_count": 47,
   "metadata": {
    "collapsed": false
   },
   "outputs": [
    {
     "data": {
      "text/plain": [
       "18"
      ]
     },
     "execution_count": 47,
     "metadata": {},
     "output_type": "execute_result"
    }
   ],
   "source": [
    "poi_df.shape[0]"
   ]
  },
  {
   "cell_type": "code",
   "execution_count": null,
   "metadata": {
    "collapsed": true
   },
   "outputs": [],
   "source": []
  }
 ],
 "metadata": {
  "kernelspec": {
   "display_name": "Python 2",
   "language": "python",
   "name": "python2"
  },
  "language_info": {
   "codemirror_mode": {
    "name": "ipython",
    "version": 2
   },
   "file_extension": ".py",
   "mimetype": "text/x-python",
   "name": "python",
   "nbconvert_exporter": "python",
   "pygments_lexer": "ipython2",
   "version": "2.7.12"
  }
 },
 "nbformat": 4,
 "nbformat_minor": 0
}
